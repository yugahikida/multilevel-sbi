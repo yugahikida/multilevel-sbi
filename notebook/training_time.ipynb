{
 "cells": [
  {
   "cell_type": "code",
   "execution_count": 6,
   "id": "44451e5f",
   "metadata": {},
   "outputs": [],
   "source": [
    "import sys, os\n",
    "sys.path.append('../')\n",
    "import time\n",
    "import numpy as np\n",
    "\n",
    "from experiment.g_and_k import likelihood_MLMC, likelihood_MC, posterior_MLMC, posterior_MC"
   ]
  },
  {
   "cell_type": "code",
   "execution_count": 20,
   "id": "45237210",
   "metadata": {},
   "outputs": [],
   "source": [
    "config_mlnle = {\n",
    "    \"task\": \"likelihood\",\n",
    "    \"type\": \"mlmc\",\n",
    "    \"epochs\": 500,\n",
    "    \"n_list\": [1000, 500],\n",
    "    \"m\": 1,\n",
    "}\n",
    "\n",
    "config_nle = {\"\"\n",
    "    \"task\": \"likelihood\",\n",
    "    \"type\": \"mc\",\n",
    "    \"epochs\": 500,\n",
    "    \"n\": 2000,\n",
    "    \"high\": True,\n",
    "    \"m\": 1\n",
    "}\n",
    "\n",
    "config_mlnpe = {\n",
    "    \"task\": \"posterior\",\n",
    "    \"type\": \"mlmc\",\n",
    "    \"epochs\": 100,\n",
    "    \"n_list\": [1000, 500],\n",
    "    \"m\": 1000,\n",
    "    \"summary_dim\": 4\n",
    "}\n",
    "\n",
    "config_npe = {\n",
    "    \"task\": \"posterior\",\n",
    "    \"type\": \"mc\",\n",
    "    \"epochs\": 100,\n",
    "    \"n\": 2000,\n",
    "    \"m\": 1000,\n",
    "    \"summary_dim\": 4,\n",
    "    \"high\": True\n",
    "}"
   ]
  },
  {
   "cell_type": "code",
   "execution_count": 9,
   "id": "94ab7790",
   "metadata": {},
   "outputs": [],
   "source": [
    "time_mat = np.zeros((10, 4))"
   ]
  },
  {
   "cell_type": "code",
   "execution_count": 10,
   "id": "b17899d5",
   "metadata": {},
   "outputs": [
    {
     "name": "stdout",
     "output_type": "stream",
     "text": [
      "Device:  cpu\n"
     ]
    },
    {
     "name": "stderr",
     "output_type": "stream",
     "text": [
      "100%|██████████| 500/500 [00:01<00:00, 261.67it/s]\n"
     ]
    },
    {
     "name": "stdout",
     "output_type": "stream",
     "text": [
      "ML-NLE 1000 epochs time:  1.916830062866211\n",
      "Device:  cpu\n"
     ]
    },
    {
     "name": "stderr",
     "output_type": "stream",
     "text": [
      "100%|██████████| 500/500 [00:01<00:00, 272.64it/s]\n"
     ]
    },
    {
     "name": "stdout",
     "output_type": "stream",
     "text": [
      "ML-NLE 1000 epochs time:  1.8360261917114258\n",
      "Device:  cpu\n"
     ]
    },
    {
     "name": "stderr",
     "output_type": "stream",
     "text": [
      "100%|██████████| 500/500 [00:01<00:00, 274.91it/s]\n"
     ]
    },
    {
     "name": "stdout",
     "output_type": "stream",
     "text": [
      "ML-NLE 1000 epochs time:  1.8210442066192627\n",
      "Device:  cpu\n"
     ]
    },
    {
     "name": "stderr",
     "output_type": "stream",
     "text": [
      "100%|██████████| 500/500 [00:01<00:00, 278.69it/s]\n"
     ]
    },
    {
     "name": "stdout",
     "output_type": "stream",
     "text": [
      "ML-NLE 1000 epochs time:  1.7962398529052734\n",
      "Device:  cpu\n"
     ]
    },
    {
     "name": "stderr",
     "output_type": "stream",
     "text": [
      "100%|██████████| 500/500 [00:01<00:00, 271.99it/s]\n"
     ]
    },
    {
     "name": "stdout",
     "output_type": "stream",
     "text": [
      "ML-NLE 1000 epochs time:  1.8404381275177002\n",
      "Device:  cpu\n"
     ]
    },
    {
     "name": "stderr",
     "output_type": "stream",
     "text": [
      "100%|██████████| 500/500 [00:01<00:00, 285.13it/s]\n"
     ]
    },
    {
     "name": "stdout",
     "output_type": "stream",
     "text": [
      "ML-NLE 1000 epochs time:  1.7557580471038818\n",
      "Device:  cpu\n"
     ]
    },
    {
     "name": "stderr",
     "output_type": "stream",
     "text": [
      "100%|██████████| 500/500 [00:01<00:00, 265.10it/s]\n"
     ]
    },
    {
     "name": "stdout",
     "output_type": "stream",
     "text": [
      "ML-NLE 1000 epochs time:  1.8881678581237793\n",
      "Device:  cpu\n"
     ]
    },
    {
     "name": "stderr",
     "output_type": "stream",
     "text": [
      "100%|██████████| 500/500 [00:01<00:00, 275.25it/s]\n"
     ]
    },
    {
     "name": "stdout",
     "output_type": "stream",
     "text": [
      "ML-NLE 1000 epochs time:  1.818701982498169\n",
      "Device:  cpu\n"
     ]
    },
    {
     "name": "stderr",
     "output_type": "stream",
     "text": [
      "100%|██████████| 500/500 [00:01<00:00, 286.64it/s]\n"
     ]
    },
    {
     "name": "stdout",
     "output_type": "stream",
     "text": [
      "ML-NLE 1000 epochs time:  1.7464988231658936\n",
      "Device:  cpu\n"
     ]
    },
    {
     "name": "stderr",
     "output_type": "stream",
     "text": [
      "100%|██████████| 500/500 [00:01<00:00, 281.91it/s]"
     ]
    },
    {
     "name": "stdout",
     "output_type": "stream",
     "text": [
      "ML-NLE 1000 epochs time:  1.7758331298828125\n"
     ]
    },
    {
     "name": "stderr",
     "output_type": "stream",
     "text": [
      "\n"
     ]
    }
   ],
   "source": [
    "for i in range(10):\n",
    "    start = time.time()\n",
    "    likelihood_MLMC(config_mlnle)\n",
    "    end = time.time()\n",
    "    time_mat[i, 0] = end - start\n",
    "    print(\"ML-NLE 1000 epochs time: \", end - start)"
   ]
  },
  {
   "cell_type": "code",
   "execution_count": 11,
   "id": "5a93b375",
   "metadata": {},
   "outputs": [
    {
     "name": "stdout",
     "output_type": "stream",
     "text": [
      "Device:  cpu\n"
     ]
    },
    {
     "name": "stderr",
     "output_type": "stream",
     "text": [
      "Epoch: 499: 100%|██████████| 500/500 [00:01<00:00, 304.33it/s, loss=0.6388]\n"
     ]
    },
    {
     "name": "stdout",
     "output_type": "stream",
     "text": [
      "NLE 1000 epochs time:  1.647202968597412\n",
      "Device:  cpu\n"
     ]
    },
    {
     "name": "stderr",
     "output_type": "stream",
     "text": [
      "Epoch: 499: 100%|██████████| 500/500 [00:01<00:00, 317.39it/s, loss=0.7239]\n"
     ]
    },
    {
     "name": "stdout",
     "output_type": "stream",
     "text": [
      "NLE 1000 epochs time:  1.577434778213501\n",
      "Device:  cpu\n"
     ]
    },
    {
     "name": "stderr",
     "output_type": "stream",
     "text": [
      "Epoch: 499: 100%|██████████| 500/500 [00:01<00:00, 337.06it/s, loss=0.6817]\n"
     ]
    },
    {
     "name": "stdout",
     "output_type": "stream",
     "text": [
      "NLE 1000 epochs time:  1.4853010177612305\n",
      "Device:  cpu\n"
     ]
    },
    {
     "name": "stderr",
     "output_type": "stream",
     "text": [
      "Epoch: 499: 100%|██████████| 500/500 [00:01<00:00, 313.84it/s, loss=0.6111]\n"
     ]
    },
    {
     "name": "stdout",
     "output_type": "stream",
     "text": [
      "NLE 1000 epochs time:  1.5957210063934326\n",
      "Device:  cpu\n"
     ]
    },
    {
     "name": "stderr",
     "output_type": "stream",
     "text": [
      "Epoch: 499: 100%|██████████| 500/500 [00:01<00:00, 294.70it/s, loss=0.6313]\n"
     ]
    },
    {
     "name": "stdout",
     "output_type": "stream",
     "text": [
      "NLE 1000 epochs time:  1.699650764465332\n",
      "Device:  cpu\n"
     ]
    },
    {
     "name": "stderr",
     "output_type": "stream",
     "text": [
      "Epoch: 499: 100%|██████████| 500/500 [00:01<00:00, 316.33it/s, loss=0.5118]\n"
     ]
    },
    {
     "name": "stdout",
     "output_type": "stream",
     "text": [
      "NLE 1000 epochs time:  1.5831389427185059\n",
      "Device:  cpu\n"
     ]
    },
    {
     "name": "stderr",
     "output_type": "stream",
     "text": [
      "Epoch: 499: 100%|██████████| 500/500 [00:01<00:00, 329.38it/s, loss=0.5403]\n"
     ]
    },
    {
     "name": "stdout",
     "output_type": "stream",
     "text": [
      "NLE 1000 epochs time:  1.5201449394226074\n",
      "Device:  cpu\n"
     ]
    },
    {
     "name": "stderr",
     "output_type": "stream",
     "text": [
      "Epoch: 499: 100%|██████████| 500/500 [00:01<00:00, 319.60it/s, loss=0.5952]\n"
     ]
    },
    {
     "name": "stdout",
     "output_type": "stream",
     "text": [
      "NLE 1000 epochs time:  1.5664126873016357\n",
      "Device:  cpu\n"
     ]
    },
    {
     "name": "stderr",
     "output_type": "stream",
     "text": [
      "Epoch: 499: 100%|██████████| 500/500 [00:01<00:00, 315.96it/s, loss=0.6033]\n"
     ]
    },
    {
     "name": "stdout",
     "output_type": "stream",
     "text": [
      "NLE 1000 epochs time:  1.5849740505218506\n",
      "Device:  cpu\n"
     ]
    },
    {
     "name": "stderr",
     "output_type": "stream",
     "text": [
      "Epoch: 499: 100%|██████████| 500/500 [00:01<00:00, 316.41it/s, loss=0.7471]"
     ]
    },
    {
     "name": "stdout",
     "output_type": "stream",
     "text": [
      "NLE 1000 epochs time:  1.5824592113494873\n"
     ]
    },
    {
     "name": "stderr",
     "output_type": "stream",
     "text": [
      "\n"
     ]
    }
   ],
   "source": [
    "for i in range(10):\n",
    "    start = time.time()\n",
    "    likelihood_MC(config_nle)\n",
    "    end = time.time()\n",
    "    time_mat[i, 1] = end - start\n",
    "    print(\"NLE 1000 epochs time: \", end - start)"
   ]
  },
  {
   "cell_type": "code",
   "execution_count": 15,
   "id": "95ecbd94",
   "metadata": {},
   "outputs": [
    {
     "name": "stderr",
     "output_type": "stream",
     "text": [
      "100%|██████████| 100/100 [00:04<00:00, 24.88it/s]\n"
     ]
    },
    {
     "name": "stdout",
     "output_type": "stream",
     "text": [
      "ML-NPE 500 epochs time:  4.166680097579956\n"
     ]
    },
    {
     "name": "stderr",
     "output_type": "stream",
     "text": [
      "100%|██████████| 100/100 [00:03<00:00, 25.05it/s]\n"
     ]
    },
    {
     "name": "stdout",
     "output_type": "stream",
     "text": [
      "ML-NPE 500 epochs time:  4.102124929428101\n"
     ]
    },
    {
     "name": "stderr",
     "output_type": "stream",
     "text": [
      "100%|██████████| 100/100 [00:04<00:00, 24.83it/s]\n"
     ]
    },
    {
     "name": "stdout",
     "output_type": "stream",
     "text": [
      "ML-NPE 500 epochs time:  4.138895034790039\n"
     ]
    },
    {
     "name": "stderr",
     "output_type": "stream",
     "text": [
      "100%|██████████| 100/100 [00:03<00:00, 25.51it/s]\n"
     ]
    },
    {
     "name": "stdout",
     "output_type": "stream",
     "text": [
      "ML-NPE 500 epochs time:  4.023099184036255\n"
     ]
    },
    {
     "name": "stderr",
     "output_type": "stream",
     "text": [
      "100%|██████████| 100/100 [00:03<00:00, 26.01it/s]\n"
     ]
    },
    {
     "name": "stdout",
     "output_type": "stream",
     "text": [
      "ML-NPE 500 epochs time:  3.952531337738037\n"
     ]
    },
    {
     "name": "stderr",
     "output_type": "stream",
     "text": [
      "100%|██████████| 100/100 [00:03<00:00, 25.94it/s]\n"
     ]
    },
    {
     "name": "stdout",
     "output_type": "stream",
     "text": [
      "ML-NPE 500 epochs time:  3.958667039871216\n"
     ]
    },
    {
     "name": "stderr",
     "output_type": "stream",
     "text": [
      "100%|██████████| 100/100 [00:03<00:00, 25.97it/s]\n"
     ]
    },
    {
     "name": "stdout",
     "output_type": "stream",
     "text": [
      "ML-NPE 500 epochs time:  3.9568402767181396\n"
     ]
    },
    {
     "name": "stderr",
     "output_type": "stream",
     "text": [
      "100%|██████████| 100/100 [00:03<00:00, 25.28it/s]\n"
     ]
    },
    {
     "name": "stdout",
     "output_type": "stream",
     "text": [
      "ML-NPE 500 epochs time:  4.059952974319458\n"
     ]
    },
    {
     "name": "stderr",
     "output_type": "stream",
     "text": [
      "100%|██████████| 100/100 [00:03<00:00, 25.95it/s]\n"
     ]
    },
    {
     "name": "stdout",
     "output_type": "stream",
     "text": [
      "ML-NPE 500 epochs time:  3.95644211769104\n"
     ]
    },
    {
     "name": "stderr",
     "output_type": "stream",
     "text": [
      "100%|██████████| 100/100 [00:03<00:00, 26.32it/s]"
     ]
    },
    {
     "name": "stdout",
     "output_type": "stream",
     "text": [
      "ML-NPE 500 epochs time:  3.9030959606170654\n"
     ]
    },
    {
     "name": "stderr",
     "output_type": "stream",
     "text": [
      "\n"
     ]
    }
   ],
   "source": [
    "for i in range(10):\n",
    "    start = time.time()\n",
    "    posterior_MLMC(config_mlnpe)\n",
    "    end = time.time()\n",
    "    time_mat[i, 2] = end - start\n",
    "    print(\"ML-NPE 500 epochs time: \", end - start)"
   ]
  },
  {
   "cell_type": "code",
   "execution_count": 21,
   "id": "36ee1619",
   "metadata": {},
   "outputs": [
    {
     "name": "stderr",
     "output_type": "stream",
     "text": [
      "Epoch: 99: 100%|██████████| 100/100 [00:03<00:00, 31.32it/s, loss=5.6701]\n"
     ]
    },
    {
     "name": "stdout",
     "output_type": "stream",
     "text": [
      "NPE 500 epochs time:  3.335545063018799\n"
     ]
    },
    {
     "name": "stderr",
     "output_type": "stream",
     "text": [
      "Epoch: 99: 100%|██████████| 100/100 [00:03<00:00, 30.80it/s, loss=5.5976]\n"
     ]
    },
    {
     "name": "stdout",
     "output_type": "stream",
     "text": [
      "NPE 500 epochs time:  3.3606090545654297\n"
     ]
    },
    {
     "name": "stderr",
     "output_type": "stream",
     "text": [
      "Epoch: 99: 100%|██████████| 100/100 [00:03<00:00, 31.25it/s, loss=5.6538]\n"
     ]
    },
    {
     "name": "stdout",
     "output_type": "stream",
     "text": [
      "NPE 500 epochs time:  3.324937105178833\n"
     ]
    },
    {
     "name": "stderr",
     "output_type": "stream",
     "text": [
      "Epoch: 99: 100%|██████████| 100/100 [00:03<00:00, 32.51it/s, loss=5.6574]\n"
     ]
    },
    {
     "name": "stdout",
     "output_type": "stream",
     "text": [
      "NPE 500 epochs time:  3.1990089416503906\n"
     ]
    },
    {
     "name": "stderr",
     "output_type": "stream",
     "text": [
      "Epoch: 99: 100%|██████████| 100/100 [00:03<00:00, 30.87it/s, loss=5.6284]\n"
     ]
    },
    {
     "name": "stdout",
     "output_type": "stream",
     "text": [
      "NPE 500 epochs time:  3.3540329933166504\n"
     ]
    },
    {
     "name": "stderr",
     "output_type": "stream",
     "text": [
      "Epoch: 99: 100%|██████████| 100/100 [00:03<00:00, 31.17it/s, loss=5.6898]\n"
     ]
    },
    {
     "name": "stdout",
     "output_type": "stream",
     "text": [
      "NPE 500 epochs time:  3.323464870452881\n"
     ]
    },
    {
     "name": "stderr",
     "output_type": "stream",
     "text": [
      "Epoch: 99: 100%|██████████| 100/100 [00:03<00:00, 32.59it/s, loss=5.6318]\n"
     ]
    },
    {
     "name": "stdout",
     "output_type": "stream",
     "text": [
      "NPE 500 epochs time:  3.1932013034820557\n"
     ]
    },
    {
     "name": "stderr",
     "output_type": "stream",
     "text": [
      "Epoch: 99: 100%|██████████| 100/100 [00:03<00:00, 32.23it/s, loss=5.7789]\n"
     ]
    },
    {
     "name": "stdout",
     "output_type": "stream",
     "text": [
      "NPE 500 epochs time:  3.216646194458008\n"
     ]
    },
    {
     "name": "stderr",
     "output_type": "stream",
     "text": [
      "Epoch: 99: 100%|██████████| 100/100 [00:03<00:00, 32.56it/s, loss=5.6657]\n"
     ]
    },
    {
     "name": "stdout",
     "output_type": "stream",
     "text": [
      "NPE 500 epochs time:  3.186034917831421\n"
     ]
    },
    {
     "name": "stderr",
     "output_type": "stream",
     "text": [
      "Epoch: 99: 100%|██████████| 100/100 [00:03<00:00, 31.47it/s, loss=5.7078]"
     ]
    },
    {
     "name": "stdout",
     "output_type": "stream",
     "text": [
      "NPE 500 epochs time:  3.2908742427825928\n"
     ]
    },
    {
     "name": "stderr",
     "output_type": "stream",
     "text": [
      "\n"
     ]
    }
   ],
   "source": [
    "for i in range(10):\n",
    "    start = time.time()\n",
    "    posterior_MC(config_npe)\n",
    "    end = time.time()\n",
    "    time_mat[i, 3] = end - start\n",
    "    print(\"NPE 500 epochs time: \", end - start)"
   ]
  },
  {
   "cell_type": "code",
   "execution_count": 35,
   "id": "e007e630",
   "metadata": {},
   "outputs": [
    {
     "data": {
      "text/plain": [
       "array([1.81955383, 1.58424404, 4.0218329 , 3.27843547])"
      ]
     },
     "execution_count": 35,
     "metadata": {},
     "output_type": "execute_result"
    }
   ],
   "source": [
    "time_mat.mean(axis=0)"
   ]
  },
  {
   "cell_type": "code",
   "execution_count": 28,
   "id": "8ac6d816",
   "metadata": {},
   "outputs": [],
   "source": [
    "time_per_epoch = time_mat / np.array([1000, 1000, 500, 500])"
   ]
  },
  {
   "cell_type": "code",
   "execution_count": 31,
   "id": "6bee7af1",
   "metadata": {},
   "outputs": [
    {
     "data": {
      "text/plain": [
       "(10, 4)"
      ]
     },
     "execution_count": 31,
     "metadata": {},
     "output_type": "execute_result"
    }
   ],
   "source": [
    "time_per_epoch.shape"
   ]
  },
  {
   "cell_type": "code",
   "execution_count": 32,
   "id": "355e5e70",
   "metadata": {},
   "outputs": [
    {
     "data": {
      "text/plain": [
       "array([0.00181955, 0.00158424, 0.00804367, 0.00655687])"
      ]
     },
     "execution_count": 32,
     "metadata": {},
     "output_type": "execute_result"
    }
   ],
   "source": [
    "time_per_epoch.mean(axis = 0)"
   ]
  },
  {
   "cell_type": "code",
   "execution_count": 34,
   "id": "e39d829b",
   "metadata": {},
   "outputs": [
    {
     "data": {
      "text/plain": [
       "array([5.17136025e-05, 5.62867114e-05, 1.72019646e-04, 1.35650985e-04])"
      ]
     },
     "execution_count": 34,
     "metadata": {},
     "output_type": "execute_result"
    }
   ],
   "source": [
    "time_per_epoch.std(axis = 0)"
   ]
  }
 ],
 "metadata": {
  "kernelspec": {
   "display_name": "sbi_env",
   "language": "python",
   "name": "python3"
  },
  "language_info": {
   "codemirror_mode": {
    "name": "ipython",
    "version": 3
   },
   "file_extension": ".py",
   "mimetype": "text/x-python",
   "name": "python",
   "nbconvert_exporter": "python",
   "pygments_lexer": "ipython3",
   "version": "3.9.21"
  }
 },
 "nbformat": 4,
 "nbformat_minor": 5
}
