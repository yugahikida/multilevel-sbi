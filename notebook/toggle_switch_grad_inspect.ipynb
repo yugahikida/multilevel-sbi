{
 "cells": [
  {
   "cell_type": "code",
   "execution_count": 1,
   "metadata": {},
   "outputs": [
    {
     "name": "stderr",
     "output_type": "stream",
     "text": [
      "/opt/homebrew/anaconda3/envs/sbi_env/lib/python3.9/site-packages/tqdm/auto.py:21: TqdmWarning: IProgress not found. Please update jupyter and ipywidgets. See https://ipywidgets.readthedocs.io/en/stable/user_install.html\n",
      "  from .autonotebook import tqdm as notebook_tqdm\n"
     ]
    }
   ],
   "source": [
    "import sys, os\n",
    "sys.path.append('../')\n",
    "result_dir = os.path.join(os.path.dirname(os.getcwd()), 'result', 'grad_inspect')\n",
    "figure_dir = os.path.join(os.path.dirname(os.getcwd()), 'figure')\n",
    "\n",
    "from src.metric import MMD_heuristic, median_heuristic, c2st\n",
    "from experiment.toggle_switch import calculate_cost\n",
    "import numpy as np\n",
    "import matplotlib.pyplot as plt\n",
    "import seaborn as sns\n",
    "from src.simulator.ts import ToggleSwitch\n",
    "\n",
    "\n",
    "from torch import Tensor, nn\n",
    "from torch.nn import functional as F\n",
    "import torch\n",
    "# from src.metric import maximum_mean_discrepancy, c2st\n",
    "import matplotlib\n",
    "\n",
    "plt.rcParams['text.latex.preamble'] = r'\\usepackage{times}'"
   ]
  },
  {
   "cell_type": "code",
   "execution_count": 2,
   "metadata": {},
   "outputs": [],
   "source": [
    "n_list =  [10000, 500, 100]\n",
    "T_list =  [50, 80, 300]\n",
    "C = calculate_cost(n_list, T_list)\n",
    "n_str = '_'.join([str(n) for n in n_list])\n",
    "T_str = '_'.join([str(T) for T in T_list])"
   ]
  },
  {
   "cell_type": "code",
   "execution_count": 3,
   "metadata": {},
   "outputs": [
    {
     "name": "stderr",
     "output_type": "stream",
     "text": [
      "/var/folders/r6/jlzvq0td5mqf05q5jm6fs2vm0000gp/T/ipykernel_17123/1254293397.py:1: FutureWarning: You are using `torch.load` with `weights_only=False` (the current default value), which uses the default pickle module implicitly. It is possible to construct malicious pickle data which will execute arbitrary code during unpickling (See https://github.com/pytorch/pytorch/blob/main/SECURITY.md#untrusted-models for more details). In a future release, the default value for `weights_only` will be flipped to `True`. This limits the functions that could be executed during unpickling. Arbitrary objects will no longer be allowed to be loaded via this mode unless they are explicitly allowlisted by the user via `torch.serialization.add_safe_globals`. We recommend you start setting `weights_only=True` for any use case where you don't have full control of the loaded file. Please open an issue on GitHub for any issues related to this experimental feature.\n",
      "  net_r_p = torch.load(os.path.join(result_dir, 'ts_grad_inspect_n_10000_500_100_T_50_80_300__gradient_surgery_gradient_rescale_.pt'))\n",
      "/var/folders/r6/jlzvq0td5mqf05q5jm6fs2vm0000gp/T/ipykernel_17123/1254293397.py:2: FutureWarning: You are using `torch.load` with `weights_only=False` (the current default value), which uses the default pickle module implicitly. It is possible to construct malicious pickle data which will execute arbitrary code during unpickling (See https://github.com/pytorch/pytorch/blob/main/SECURITY.md#untrusted-models for more details). In a future release, the default value for `weights_only` will be flipped to `True`. This limits the functions that could be executed during unpickling. Arbitrary objects will no longer be allowed to be loaded via this mode unless they are explicitly allowlisted by the user via `torch.serialization.add_safe_globals`. We recommend you start setting `weights_only=True` for any use case where you don't have full control of the loaded file. Please open an issue on GitHub for any issues related to this experimental feature.\n",
      "  net_r = torch.load(os.path.join(result_dir, 'ts_grad_inspect_n_10000_500_100_T_50_80_300__gradient_rescale_.pt'))\n",
      "/var/folders/r6/jlzvq0td5mqf05q5jm6fs2vm0000gp/T/ipykernel_17123/1254293397.py:3: FutureWarning: You are using `torch.load` with `weights_only=False` (the current default value), which uses the default pickle module implicitly. It is possible to construct malicious pickle data which will execute arbitrary code during unpickling (See https://github.com/pytorch/pytorch/blob/main/SECURITY.md#untrusted-models for more details). In a future release, the default value for `weights_only` will be flipped to `True`. This limits the functions that could be executed during unpickling. Arbitrary objects will no longer be allowed to be loaded via this mode unless they are explicitly allowlisted by the user via `torch.serialization.add_safe_globals`. We recommend you start setting `weights_only=True` for any use case where you don't have full control of the loaded file. Please open an issue on GitHub for any issues related to this experimental feature.\n",
      "  neta_p = torch.load(os.path.join(result_dir, 'ts_grad_inspect_n_10000_500_100_T_50_80_300__gradient_surgery_.pt'))\n",
      "/var/folders/r6/jlzvq0td5mqf05q5jm6fs2vm0000gp/T/ipykernel_17123/1254293397.py:4: FutureWarning: You are using `torch.load` with `weights_only=False` (the current default value), which uses the default pickle module implicitly. It is possible to construct malicious pickle data which will execute arbitrary code during unpickling (See https://github.com/pytorch/pytorch/blob/main/SECURITY.md#untrusted-models for more details). In a future release, the default value for `weights_only` will be flipped to `True`. This limits the functions that could be executed during unpickling. Arbitrary objects will no longer be allowed to be loaded via this mode unless they are explicitly allowlisted by the user via `torch.serialization.add_safe_globals`. We recommend you start setting `weights_only=True` for any use case where you don't have full control of the loaded file. Please open an issue on GitHub for any issues related to this experimental feature.\n",
      "  net_none = torch.load(os.path.join(result_dir, 'ts_grad_inspect_n_10000_500_100_T_50_80_300__.pt'))\n"
     ]
    }
   ],
   "source": [
    "net_r_p = torch.load(os.path.join(result_dir, 'ts_grad_inspect_n_10000_500_100_T_50_80_300__gradient_surgery_gradient_rescale_.pt'))\n",
    "net_r = torch.load(os.path.join(result_dir, 'ts_grad_inspect_n_10000_500_100_T_50_80_300__gradient_rescale_.pt'))\n",
    "neta_p = torch.load(os.path.join(result_dir, 'ts_grad_inspect_n_10000_500_100_T_50_80_300__gradient_surgery_.pt'))\n",
    "net_none = torch.load(os.path.join(result_dir, 'ts_grad_inspect_n_10000_500_100_T_50_80_300__.pt'))"
   ]
  },
  {
   "cell_type": "code",
   "execution_count": 4,
   "metadata": {},
   "outputs": [],
   "source": [
    "# np.save(os.path.join(result_dir, 'ts_theta.npy'), theta_test)\n",
    "# np.save(os.path.join(result_dir, 'ts_x.npy'), x_test)\n",
    "theta_test = np.load(os.path.join(result_dir, 'ts_theta.npy'))\n",
    "x_test = np.load(os.path.join(result_dir, 'ts_x.npy'))"
   ]
  },
  {
   "cell_type": "code",
   "execution_count": 5,
   "metadata": {},
   "outputs": [],
   "source": [
    "theta_test = torch.tensor(theta_test)\n",
    "x_test = torch.tensor(x_test)"
   ]
  },
  {
   "cell_type": "code",
   "execution_count": 6,
   "metadata": {},
   "outputs": [],
   "source": [
    "network_list = [net_r_p, net_r, neta_p, net_none]\n",
    "idx = 1\n",
    "length_scale = median_heuristic(x_test[idx].unsqueeze(1))"
   ]
  },
  {
   "cell_type": "code",
   "execution_count": 7,
   "metadata": {},
   "outputs": [],
   "source": [
    "n = theta_test.shape[0]\n",
    "m = x_test.shape[1]"
   ]
  },
  {
   "cell_type": "code",
   "execution_count": 8,
   "metadata": {},
   "outputs": [],
   "source": [
    "mmd_mlmc = np.zeros((n, len(network_list)))\n",
    "\n",
    "for i in range(n):\n",
    "    x_test_i = x_test[i].unsqueeze(1)\n",
    "    for j in range(len(network_list)):\n",
    "        x_emu_i_j = network_list[j].sample_unstandardized(num_samples = m, condition = theta_test[i].unsqueeze(0)).squeeze(0)\n",
    "        mmd_mlmc[i, j] = MMD_heuristic(x_test_i, x_emu_i_j, l_list = [length_scale])"
   ]
  },
  {
   "cell_type": "code",
   "execution_count": 13,
   "metadata": {},
   "outputs": [],
   "source": [
    "np.save(os.path.join(result_dir, 'toggle_switch_grad_inspect_mmd.npy'), mmd_mlmc)\n",
    "mmd_mlmc = np.load(os.path.join(result_dir, 'toggle_switch_grad_inspect_mmd.npy'))"
   ]
  },
  {
   "cell_type": "code",
   "execution_count": 14,
   "metadata": {},
   "outputs": [
    {
     "name": "stdout",
     "output_type": "stream",
     "text": [
      "(i) both 0.26 ( 0.25 ) \n",
      "\n",
      "(ii) only rescaling 0.5 ( 0.37 ) \n",
      "\n",
      "(iii) only projection 0.35 ( 0.27 ) \n",
      "\n",
      "standard 0.59 ( 0.31 ) \n",
      "\n"
     ]
    }
   ],
   "source": [
    "name = [\"(i) both\", \"(ii) only rescaling\", \"(iii) only projection\", \"standard\"]\n",
    "\n",
    "for i in range(len(network_list)):\n",
    "    print(name[i], round(mmd_mlmc[:, i].mean(), 2), '(', round(mmd_mlmc[:, i].std(), 2), ')', '\\n')\n"
   ]
  }
 ],
 "metadata": {
  "kernelspec": {
   "display_name": "sbi_env",
   "language": "python",
   "name": "python3"
  },
  "language_info": {
   "codemirror_mode": {
    "name": "ipython",
    "version": 3
   },
   "file_extension": ".py",
   "mimetype": "text/x-python",
   "name": "python",
   "nbconvert_exporter": "python",
   "pygments_lexer": "ipython3",
   "version": "3.9.21"
  }
 },
 "nbformat": 4,
 "nbformat_minor": 2
}
