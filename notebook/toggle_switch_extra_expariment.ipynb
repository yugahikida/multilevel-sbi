{
 "cells": [
  {
   "cell_type": "code",
   "execution_count": 2,
   "metadata": {},
   "outputs": [
    {
     "name": "stderr",
     "output_type": "stream",
     "text": [
      "/opt/homebrew/anaconda3/envs/sbi_env/lib/python3.9/site-packages/tqdm/auto.py:21: TqdmWarning: IProgress not found. Please update jupyter and ipywidgets. See https://ipywidgets.readthedocs.io/en/stable/user_install.html\n",
      "  from .autonotebook import tqdm as notebook_tqdm\n"
     ]
    }
   ],
   "source": [
    "import sys, os\n",
    "sys.path.append('../')\n",
    "result_dir = os.path.join(os.path.dirname(os.getcwd()), 'result', 'ts')\n",
    "figure_dir = os.path.join(os.path.dirname(os.getcwd()), 'figure')\n",
    "\n",
    "from src.metric import MMD_heuristic, median_heuristic, c2st\n",
    "from experiment.toggle_switch import calculate_cost\n",
    "import numpy as np\n",
    "import matplotlib.pyplot as plt\n",
    "import seaborn as sns\n",
    "from src.simulator.ts import ToggleSwitch\n",
    "\n",
    "\n",
    "from torch import Tensor, nn\n",
    "from torch.nn import functional as F\n",
    "import torch\n",
    "# from src.metric import maximum_mean_discrepancy, c2st\n",
    "import matplotlib\n",
    "\n",
    "plt.rcParams['text.latex.preamble'] = r'\\usepackage{times}'"
   ]
  },
  {
   "cell_type": "code",
   "execution_count": 2,
   "metadata": {},
   "outputs": [],
   "source": [
    "n_list_0 =  [10000, 500, 100]\n",
    "T_list_0 =  [50, 80, 300]\n",
    "C_0 = calculate_cost(n_list_0, T_list_0)\n",
    "n_str_0 = '_'.join([str(n) for n in n_list_0])\n",
    "T_str_0 = '_'.join([str(T) for T in T_list_0])"
   ]
  },
  {
   "cell_type": "code",
   "execution_count": 3,
   "metadata": {},
   "outputs": [],
   "source": [
    "n_list_1 =  [9260, 200, 300]\n",
    "T_list_1 =  [50, 80, 300]\n",
    "C_1 = calculate_cost(n_list_1, T_list_1)\n",
    "n_str_1 = '_'.join([str(n) for n in n_list_1])\n",
    "T_str_1 = '_'.join([str(T) for T in T_list_1])"
   ]
  },
  {
   "cell_type": "code",
   "execution_count": 4,
   "metadata": {},
   "outputs": [],
   "source": [
    "n_list_2 =  [1077, 1077, 1077]\n",
    "T_list_2 =  [50, 80, 300]\n",
    "C_2 = calculate_cost(n_list_2, T_list_2)\n",
    "n_str_2 = '_'.join([str(n) for n in n_list_2])\n",
    "T_str_2 = '_'.join([str(T) for T in T_list_2])"
   ]
  },
  {
   "cell_type": "code",
   "execution_count": 8,
   "metadata": {},
   "outputs": [
    {
     "name": "stderr",
     "output_type": "stream",
     "text": [
      "/var/folders/r6/jlzvq0td5mqf05q5jm6fs2vm0000gp/T/ipykernel_2974/1203061019.py:1: FutureWarning: You are using `torch.load` with `weights_only=False` (the current default value), which uses the default pickle module implicitly. It is possible to construct malicious pickle data which will execute arbitrary code during unpickling (See https://github.com/pytorch/pytorch/blob/main/SECURITY.md#untrusted-models for more details). In a future release, the default value for `weights_only` will be flipped to `True`. This limits the functions that could be executed during unpickling. Arbitrary objects will no longer be allowed to be loaded via this mode unless they are explicitly allowlisted by the user via `torch.serialization.add_safe_globals`. We recommend you start setting `weights_only=True` for any use case where you don't have full control of the loaded file. Please open an issue on GitHub for any issues related to this experimental feature.\n",
      "  mlmc_net_0 = torch.load(os.path.join(result_dir, 'ts_MLMC_n_' + n_str_0 + '_T_' + T_str_0 + '.pt'))\n",
      "/var/folders/r6/jlzvq0td5mqf05q5jm6fs2vm0000gp/T/ipykernel_2974/1203061019.py:2: FutureWarning: You are using `torch.load` with `weights_only=False` (the current default value), which uses the default pickle module implicitly. It is possible to construct malicious pickle data which will execute arbitrary code during unpickling (See https://github.com/pytorch/pytorch/blob/main/SECURITY.md#untrusted-models for more details). In a future release, the default value for `weights_only` will be flipped to `True`. This limits the functions that could be executed during unpickling. Arbitrary objects will no longer be allowed to be loaded via this mode unless they are explicitly allowlisted by the user via `torch.serialization.add_safe_globals`. We recommend you start setting `weights_only=True` for any use case where you don't have full control of the loaded file. Please open an issue on GitHub for any issues related to this experimental feature.\n",
      "  mlmc_net_1 = torch.load(os.path.join(result_dir, 'ts_MLMC_n_' + n_str_1 + '_T_' + T_str_1 + '_' +  '.pt'))\n",
      "/var/folders/r6/jlzvq0td5mqf05q5jm6fs2vm0000gp/T/ipykernel_2974/1203061019.py:3: FutureWarning: You are using `torch.load` with `weights_only=False` (the current default value), which uses the default pickle module implicitly. It is possible to construct malicious pickle data which will execute arbitrary code during unpickling (See https://github.com/pytorch/pytorch/blob/main/SECURITY.md#untrusted-models for more details). In a future release, the default value for `weights_only` will be flipped to `True`. This limits the functions that could be executed during unpickling. Arbitrary objects will no longer be allowed to be loaded via this mode unless they are explicitly allowlisted by the user via `torch.serialization.add_safe_globals`. We recommend you start setting `weights_only=True` for any use case where you don't have full control of the loaded file. Please open an issue on GitHub for any issues related to this experimental feature.\n",
      "  mlmc_net_2 = torch.load(os.path.join(result_dir, 'ts_MLMC_n_' + n_str_2 + '_T_' + T_str_2 + '_' + '.pt'))\n",
      "/var/folders/r6/jlzvq0td5mqf05q5jm6fs2vm0000gp/T/ipykernel_2974/1203061019.py:5: FutureWarning: You are using `torch.load` with `weights_only=False` (the current default value), which uses the default pickle module implicitly. It is possible to construct malicious pickle data which will execute arbitrary code during unpickling (See https://github.com/pytorch/pytorch/blob/main/SECURITY.md#untrusted-models for more details). In a future release, the default value for `weights_only` will be flipped to `True`. This limits the functions that could be executed during unpickling. Arbitrary objects will no longer be allowed to be loaded via this mode unless they are explicitly allowlisted by the user via `torch.serialization.add_safe_globals`. We recommend you start setting `weights_only=True` for any use case where you don't have full control of the loaded file. Please open an issue on GitHub for any issues related to this experimental feature.\n",
      "  mc_net_high = torch.load(os.path.join(result_dir, 'ts_MC_n_' + str(C_0 // T_list_0[2]) + '_T_' + str(T_list_0[2]) + '.pt'))\n",
      "/var/folders/r6/jlzvq0td5mqf05q5jm6fs2vm0000gp/T/ipykernel_2974/1203061019.py:6: FutureWarning: You are using `torch.load` with `weights_only=False` (the current default value), which uses the default pickle module implicitly. It is possible to construct malicious pickle data which will execute arbitrary code during unpickling (See https://github.com/pytorch/pytorch/blob/main/SECURITY.md#untrusted-models for more details). In a future release, the default value for `weights_only` will be flipped to `True`. This limits the functions that could be executed during unpickling. Arbitrary objects will no longer be allowed to be loaded via this mode unless they are explicitly allowlisted by the user via `torch.serialization.add_safe_globals`. We recommend you start setting `weights_only=True` for any use case where you don't have full control of the loaded file. Please open an issue on GitHub for any issues related to this experimental feature.\n",
      "  mc_net_medium = torch.load(os.path.join(result_dir, 'ts_MC_n_' + str(C_0 // T_list_0[1]) + '_T_' + str(T_list_0[1]) + '.pt'))\n",
      "/var/folders/r6/jlzvq0td5mqf05q5jm6fs2vm0000gp/T/ipykernel_2974/1203061019.py:7: FutureWarning: You are using `torch.load` with `weights_only=False` (the current default value), which uses the default pickle module implicitly. It is possible to construct malicious pickle data which will execute arbitrary code during unpickling (See https://github.com/pytorch/pytorch/blob/main/SECURITY.md#untrusted-models for more details). In a future release, the default value for `weights_only` will be flipped to `True`. This limits the functions that could be executed during unpickling. Arbitrary objects will no longer be allowed to be loaded via this mode unless they are explicitly allowlisted by the user via `torch.serialization.add_safe_globals`. We recommend you start setting `weights_only=True` for any use case where you don't have full control of the loaded file. Please open an issue on GitHub for any issues related to this experimental feature.\n",
      "  mc_net_low = torch.load(os.path.join(result_dir, 'ts_MC_n_' + str(C_0 // T_list_0[0]) + '_T_' + str(T_list_0[0]) + '.pt'))\n"
     ]
    }
   ],
   "source": [
    "mlmc_net_0 = torch.load(os.path.join(result_dir, 'ts_MLMC_n_' + n_str_0 + '_T_' + T_str_0 + '.pt'))\n",
    "mlmc_net_1 = torch.load(os.path.join(result_dir, 'ts_MLMC_n_' + n_str_1 + '_T_' + T_str_1 + '_' +  '.pt'))\n",
    "mlmc_net_2 = torch.load(os.path.join(result_dir, 'ts_MLMC_n_' + n_str_2 + '_T_' + T_str_2 + '_' + '.pt'))\n",
    "\n",
    "mc_net_high = torch.load(os.path.join(result_dir, 'ts_MC_n_' + str(C_0 // T_list_0[2]) + '_T_' + str(T_list_0[2]) + '.pt'))\n",
    "mc_net_medium = torch.load(os.path.join(result_dir, 'ts_MC_n_' + str(C_0 // T_list_0[1]) + '_T_' + str(T_list_0[1]) + '.pt'))\n",
    "mc_net_low = torch.load(os.path.join(result_dir, 'ts_MC_n_' + str(C_0 // T_list_0[0]) + '_T_' + str(T_list_0[0]) + '.pt'))"
   ]
  },
  {
   "cell_type": "code",
   "execution_count": 16,
   "metadata": {},
   "outputs": [],
   "source": [
    "\n",
    "def obtain_density_over_grid(network: nn.Module, x_grid: Tensor, theta: Tensor):\n",
    "    \"\"\"\n",
    "    network: nn.Module\n",
    "    Input: x_grid [n_eval_points]\n",
    "    theta: [theta_dim]\n",
    "    \"\"\"\n",
    "    n_eval_points = x_grid.shape[0]\n",
    "    return torch.stack([network.log_prob_unstandardized(x_grid[i], theta, log = False) for i in range(n_eval_points)]).squeeze(1).detach().numpy()"
   ]
  },
  {
   "cell_type": "code",
   "execution_count": 17,
   "metadata": {},
   "outputs": [],
   "source": [
    "n_eval_points = 1000\n",
    "simulator = ToggleSwitch(sample_theta = True)\n",
    "theta_star, x = simulator(n = 1, m = 1000, T = 300)\n",
    "x_grid = torch.tensor(np.linspace(0, 2000, 1000))"
   ]
  },
  {
   "cell_type": "code",
   "execution_count": 18,
   "metadata": {},
   "outputs": [],
   "source": [
    "n = 5000\n",
    "m = 500\n",
    "# simulator = ToggleSwitch(sample_theta = True)\n",
    "# theta_test, x_test = simulator(n = n, m = m, T = 300)"
   ]
  },
  {
   "cell_type": "code",
   "execution_count": 15,
   "metadata": {},
   "outputs": [],
   "source": [
    "# np.save(os.path.join(result_dir, 'ts_theta.npy'), theta_test)\n",
    "# np.save(os.path.join(result_dir, 'ts_x.npy'), x_test)\n",
    "theta_test = np.load(os.path.join(result_dir, 'ts_theta.npy'))\n",
    "x_test = np.load(os.path.join(result_dir, 'ts_x.npy'))"
   ]
  },
  {
   "cell_type": "code",
   "execution_count": 22,
   "metadata": {},
   "outputs": [],
   "source": [
    "theta_test = torch.tensor(theta_test)\n",
    "x_test = torch.tensor(x_test)"
   ]
  },
  {
   "cell_type": "code",
   "execution_count": 23,
   "metadata": {},
   "outputs": [],
   "source": [
    "network_list = [mlmc_net_0, mlmc_net_1, mlmc_net_2, mc_net_high, mc_net_medium, mc_net_low]\n",
    "idx = 1\n",
    "length_scale = median_heuristic(x_test[idx].unsqueeze(1))"
   ]
  },
  {
   "cell_type": "code",
   "execution_count": 24,
   "metadata": {},
   "outputs": [],
   "source": [
    "mmd_mlmc = np.zeros((n, len(network_list)))\n",
    "\n",
    "for i in range(n):\n",
    "    x_test_i = x_test[i].unsqueeze(1)\n",
    "    for j in range(len(network_list)):\n",
    "        x_emu_i_j = network_list[j].sample_unstandardized(num_samples = m, condition = theta_test[i].unsqueeze(0)).squeeze(0)\n",
    "        mmd_mlmc[i, j] = MMD_heuristic(x_test_i, x_emu_i_j, l_list = [length_scale])"
   ]
  },
  {
   "cell_type": "code",
   "execution_count": 28,
   "metadata": {},
   "outputs": [],
   "source": [
    "np.save(os.path.join(result_dir, 'ts_mmd_rebuttal.npy'), mmd_mlmc)"
   ]
  },
  {
   "cell_type": "code",
   "execution_count": 3,
   "metadata": {},
   "outputs": [],
   "source": [
    "mmd_mlmc = np.load(os.path.join(result_dir, 'ts_mmd_rebuttal.npy'))"
   ]
  },
  {
   "cell_type": "code",
   "execution_count": 12,
   "metadata": {},
   "outputs": [
    {
     "name": "stderr",
     "output_type": "stream",
     "text": [
      "/var/folders/r6/jlzvq0td5mqf05q5jm6fs2vm0000gp/T/ipykernel_2974/3342482035.py:14: UserWarning: FixedFormatter should only be used together with FixedLocator\n",
      "  ax.set_xticklabels([\"ML-NLE (a)\", \"ML-NLE (b)\", \"ML-NLE (c)\", \"NLE (high)\", \"NLE (med.)\", \"NLE (low)\"], fontsize = 15, rotation = 90)\n"
     ]
    },
    {
     "data": {
      "image/png": "[encoded data removed]",
      "text/plain": [
       "<Figure size 300x400 with 1 Axes>"
      ]
     },
     "metadata": {},
     "output_type": "display_data"
    }
   ],
   "source": [
    "colors = [\"#850D0C\", \"#850D0C\",\"#850D0C\", \"#0C0C85\", \"#D4AF37\", \"#25A986\"]\n",
    "f, ax = plt.subplots(figsize = (3, 4))\n",
    "sns.boxplot(mmd_mlmc, palette = colors, ax = ax,\n",
    "            flierprops={'marker': '.', 'color': 'black', 'markersize': 5, 'markerfacecolor': 'black', 'markeredgecolor': 'black'})\n",
    "# sns.violinplot(mmd_mlmc, palette = colors, ax = ax, alpha = 0.5)\n",
    "\n",
    "for patch in ax.patches:\n",
    "    patch.set_alpha(0.5)\n",
    "\n",
    "ax.set_xlabel('')\n",
    "ax.set_ylabel('MMD', fontsize = 17)\n",
    "ax.spines['top'].set_visible(False)\n",
    "ax.spines['right'].set_visible(False)\n",
    "ax.set_xticklabels([\"ML-NLE (a)\", \"ML-NLE (b)\", \"ML-NLE (c)\", \"NLE (high)\", \"NLE (med.)\", \"NLE (low)\"], fontsize = 15, rotation = 90)\n",
    "f.tight_layout()\n",
    "# ax.set_yscale('log')\n",
    "plt.show()"
   ]
  },
  {
   "cell_type": "code",
   "execution_count": 6,
   "metadata": {},
   "outputs": [
    {
     "data": {
      "text/plain": [
       "6"
      ]
     },
     "execution_count": 6,
     "metadata": {},
     "output_type": "execute_result"
    }
   ],
   "source": [
    "len(mmd_mlmc.T)"
   ]
  },
  {
   "cell_type": "code",
   "execution_count": 9,
   "metadata": {},
   "outputs": [
    {
     "name": "stdout",
     "output_type": "stream",
     "text": [
      "Option A 0.16 0.23 \n",
      "\n",
      "Option B 0.33 0.26 \n",
      "\n",
      "Option C 0.29 0.28 \n",
      "\n",
      "only high 0.43 0.29 \n",
      "\n",
      "only medium 0.37 0.45 \n",
      "\n",
      "only low 0.59 0.65 \n",
      "\n"
     ]
    }
   ],
   "source": [
    "means = mmd_mlmc.mean(axis = 0)\n",
    "sds = mmd_mlmc.std(axis = 0)\n",
    "name = [\"Option A\", \"Option B\", \"Option C\", \"only high\", \"only medium\", \"only low\"]\n",
    "\n",
    "for i in range(len(mmd_mlmc.T)):\n",
    "    print(name[i], round(means[i], 2), round(sds[i], 2), '\\n')"
   ]
  },
  {
   "cell_type": "code",
   "execution_count": 13,
   "metadata": {},
   "outputs": [],
   "source": [
    "f.savefig(os.path.join(figure_dir, 'toggle_switch_mmd_rebuttal.pdf'), bbox_inches = 'tight')"
   ]
  },
  {
   "cell_type": "code",
   "execution_count": 172,
   "metadata": {},
   "outputs": [],
   "source": [
    "f.savefig('figure/ts_mmd_comparison_3_level.pdf')"
   ]
  }
 ],
 "metadata": {
  "kernelspec": {
   "display_name": "sbi_env",
   "language": "python",
   "name": "python3"
  },
  "language_info": {
   "codemirror_mode": {
    "name": "ipython",
    "version": 3
   },
   "file_extension": ".py",
   "mimetype": "text/x-python",
   "name": "python",
   "nbconvert_exporter": "python",
   "pygments_lexer": "ipython3",
   "version": "3.9.21"
  }
 },
 "nbformat": 4,
 "nbformat_minor": 2
}
