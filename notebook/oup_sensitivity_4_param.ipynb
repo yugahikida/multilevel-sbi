{
 "cells": [
  {
   "cell_type": "code",
   "execution_count": null,
   "metadata": {},
   "outputs": [],
   "source": [
    "import matplotlib.pyplot as plt\n",
    "import sys, os\n",
    "sys.path.append('../')\n",
    "result_dir = os.path.join(os.path.dirname(os.getcwd()), 'result', 'oup')\n",
    "figure_dir = os.path.join(os.path.dirname(os.getcwd()), 'figure')\n",
    "from torch import nn, Tensor\n",
    "from scipy.stats import entropy\n",
    "\n",
    "import seaborn as sns\n",
    "\n",
    "from src.metric import c2st\n",
    "from src.simulator.oup import oup\n",
    "import torch\n",
    "import torch.nn.functional as F\n",
    "import numpy as np\n",
    "from src.plot import plot_recovery\n",
    "import matplotlib\n",
    "from matplotlib.patches import Patch\n",
    "\n",
    "plt.rcParams['text.latex.preamble'] = r'\\usepackage{times}'"
   ]
  },
  {
   "cell_type": "code",
   "execution_count": 3,
   "metadata": {},
   "outputs": [
    {
     "name": "stderr",
     "output_type": "stream",
     "text": [
      "/var/folders/r6/jlzvq0td5mqf05q5jm6fs2vm0000gp/T/ipykernel_12119/471492338.py:1: FutureWarning: You are using `torch.load` with `weights_only=False` (the current default value), which uses the default pickle module implicitly. It is possible to construct malicious pickle data which will execute arbitrary code during unpickling (See https://github.com/pytorch/pytorch/blob/main/SECURITY.md#untrusted-models for more details). In a future release, the default value for `weights_only` will be flipped to `True`. This limits the functions that could be executed during unpickling. Arbitrary objects will no longer be allowed to be loaded via this mode unless they are explicitly allowlisted by the user via `torch.serialization.add_safe_globals`. We recommend you start setting `weights_only=True` for any use case where you don't have full control of the loaded file. Please open an issue on GitHub for any issues related to this experimental feature.\n",
      "  mc_ref = torch.load(os.path.join(result_dir, 'oup_mc_n_10000_four_param.pt'), map_location = torch.device('cpu'))\n",
      "/opt/homebrew/anaconda3/envs/sbi_env/lib/python3.9/site-packages/tqdm/auto.py:21: TqdmWarning: IProgress not found. Please update jupyter and ipywidgets. See https://ipywidgets.readthedocs.io/en/stable/user_install.html\n",
      "  from .autonotebook import tqdm as notebook_tqdm\n"
     ]
    }
   ],
   "source": [
    "mc_ref = torch.load(os.path.join(result_dir, 'oup_mc_n_10000_four_param.pt'), map_location = torch.device('cpu'))"
   ]
  },
  {
   "cell_type": "code",
   "execution_count": 4,
   "metadata": {},
   "outputs": [],
   "source": [
    "simulator = oup(T = 10, dt = 0.1, sample_theta = True, three_param = False)"
   ]
  },
  {
   "cell_type": "code",
   "execution_count": 11,
   "metadata": {},
   "outputs": [],
   "source": [
    "x = np.load(os.path.join(result_dir, 'oup_x_4_param.npy'))\n",
    "theta = np.load(os.path.join(result_dir, 'oup_theta_4_param.npy'))\n",
    "x = torch.from_numpy(x).float()\n",
    "theta = torch.from_numpy(theta).float()"
   ]
  },
  {
   "cell_type": "code",
   "execution_count": 12,
   "metadata": {},
   "outputs": [],
   "source": [
    "def obtain_nlpd_for_multi_run(theta, x, n_tl_str: str, n_mlmc_str: str):\n",
    "    patience_list = [1, 20, 100, 1000]\n",
    "    n_sim = 20\n",
    "    mlmc_nlpd = np.zeros((n_sim, ))\n",
    "    tl_nlpd = np.zeros((n_sim, len(patience_list)))\n",
    "\n",
    "    for i in range(n_sim):\n",
    "        for j in range(len(patience_list)):\n",
    "            patience = patience_list[j]\n",
    "            tl_net = torch.load(os.path.join(\n",
    "                result_dir, 'oup_tl_n_' + n_tl_str + '_pa_' + str(patience) + '_' + str(i) + '_four_param.pt'), map_location=torch.device('cpu'))\n",
    "            tl_nlpd[i, j] = - tl_net.log_prob_unstandardized(theta, x).detach().median().numpy().item()\n",
    "\n",
    "        mlmc_net = torch.load(os.path.join(\n",
    "                result_dir, 'oup_mlmc_n_' + n_mlmc_str + '_' + str(i) + '_four_param.pt'), map_location=torch.device('cpu'))\n",
    "        mlmc_nlpd[i] = - mlmc_net.log_prob_unstandardized(theta, x).detach().median().numpy().item()\n",
    "\n",
    "\n",
    "    return mlmc_nlpd, tl_nlpd"
   ]
  },
  {
   "cell_type": "code",
   "execution_count": 13,
   "metadata": {},
   "outputs": [],
   "source": [
    "def obtain_nlpd_for_multi_run_mc(theta, x, n_str: str):\n",
    "    n_sim = 20\n",
    "    nlpd = np.zeros((n_sim, ))\n",
    "\n",
    "    for i in range(n_sim):\n",
    "        net = torch.load(os.path.join(\n",
    "                result_dir, 'oup_mc_n_' + n_str + '_four_param_' + str(i) + '.pt'), map_location=torch.device('cpu'))\n",
    "        nlpd[i] = - net.log_prob_unstandardized(theta, x).detach().median().numpy().item()\n",
    "\n",
    "    return nlpd"
   ]
  },
  {
   "cell_type": "code",
   "execution_count": 14,
   "metadata": {},
   "outputs": [],
   "source": [
    "def obtain_kl(approximated_densities, exact_densities, forward = True):\n",
    "    \n",
    "    jitter = 1e-20\n",
    "    exact_densities = np.clip(exact_densities, jitter, None)\n",
    "\n",
    "    kl = np.zeros((approximated_densities.shape[0]))\n",
    "\n",
    "    for i in range(approximated_densities.shape[0]):\n",
    "\n",
    "        if forward:\n",
    "            kl[i] = entropy(exact_densities[i], approximated_densities[i]) # forward KL divergence \n",
    "\n",
    "        else:\n",
    "            kl[i] = entropy(approximated_densities[i], exact_densities[i])\n",
    "\n",
    "    return kl\n",
    "\n",
    "def obtain_avg_kl(net_approx, net_ref, x, num_samples = 2000):\n",
    "\n",
    "    with torch.no_grad():\n",
    "        post_ref = net_ref.sample_unstandardized(num_samples = num_samples, condition = x)\n",
    "        dens_def = torch.stack([net_ref.log_prob_unstandardized(post_ref[:, i, :], condition = x) for i in range(num_samples)])\n",
    "        dens_approx = torch.stack([net_approx.log_prob_unstandardized(post_ref[:, i, :], condition = x) for i in range(num_samples)])\n",
    "\n",
    "        kl_avg = obtain_kl(dens_approx, dens_def).mean().item()\n",
    "\n",
    "    return kl_avg"
   ]
  },
  {
   "cell_type": "code",
   "execution_count": 8,
   "metadata": {},
   "outputs": [],
   "source": [
    "def obtain_kl_for_multi_run(x, n_tl_str: str, n_mlmc_str: str, ref_net):\n",
    "    patience_list = [1, 20, 100, 1000]\n",
    "    n_net = 20\n",
    "    mlmc_kl = np.zeros((n_net, ))\n",
    "    tl_kl = np.zeros((n_net, len(patience_list)))\n",
    "\n",
    "    for i in range(n_net):\n",
    "\n",
    "        for j in range(len(patience_list)):\n",
    "            patience = patience_list[j]\n",
    "            # patience = patience_list[j]\n",
    "            tl_net = torch.load(os.path.join(\n",
    "                result_dir, 'oup_tl_n_' + n_tl_str + '_pa_' + str(patience) + '_' + str(i) + '_four_param.pt'), map_location=torch.device('cpu'))\n",
    "            tl_kl[i, j] =  obtain_avg_kl(tl_net, ref_net, x)\n",
    "\n",
    "        mlmc_net = torch.load(os.path.join(\n",
    "                result_dir, 'oup_mlmc_n_' + n_mlmc_str + '_' + str(i) + '_four_param.pt'), map_location=torch.device('cpu'))\n",
    "        mlmc_kl[i] = obtain_avg_kl(mlmc_net, ref_net, x)\n",
    "\n",
    "\n",
    "    return mlmc_kl, tl_kl"
   ]
  },
  {
   "cell_type": "code",
   "execution_count": 10,
   "metadata": {},
   "outputs": [],
   "source": [
    "def obtain_kl_for_multi_run_mc(x, n_str, ref_net):\n",
    "    n_net = 20\n",
    "    kl = np.zeros((n_net, ))\n",
    "    for i in range(n_net):\n",
    "        net = torch.load(os.path.join(\n",
    "            result_dir, 'oup_mc_n_' + n_str + '_four_param_' + str(i) + '.pt'), map_location=torch.device('cpu'))\n",
    "        kl[i] = obtain_avg_kl(net, ref_net, x)\n",
    "\n",
    "    return kl"
   ]
  },
  {
   "cell_type": "code",
   "execution_count": 20,
   "metadata": {},
   "outputs": [],
   "source": [
    "# mlmc_kl, tl_kl = obtain_kl_for_multi_run(x, '1100_100', '1000_100', mc_ref)\n",
    "# mlnc_nlpd, tl_nlpd = obtain_nlpd_for_multi_run(theta, x, '1100_100', '1000_100')"
   ]
  },
  {
   "cell_type": "code",
   "execution_count": 18,
   "metadata": {},
   "outputs": [
    {
     "name": "stderr",
     "output_type": "stream",
     "text": [
      "/var/folders/r6/jlzvq0td5mqf05q5jm6fs2vm0000gp/T/ipykernel_12119/703050329.py:6: FutureWarning: You are using `torch.load` with `weights_only=False` (the current default value), which uses the default pickle module implicitly. It is possible to construct malicious pickle data which will execute arbitrary code during unpickling (See https://github.com/pytorch/pytorch/blob/main/SECURITY.md#untrusted-models for more details). In a future release, the default value for `weights_only` will be flipped to `True`. This limits the functions that could be executed during unpickling. Arbitrary objects will no longer be allowed to be loaded via this mode unless they are explicitly allowlisted by the user via `torch.serialization.add_safe_globals`. We recommend you start setting `weights_only=True` for any use case where you don't have full control of the loaded file. Please open an issue on GitHub for any issues related to this experimental feature.\n",
      "  net = torch.load(os.path.join(\n",
      "/var/folders/r6/jlzvq0td5mqf05q5jm6fs2vm0000gp/T/ipykernel_12119/664477479.py:5: FutureWarning: You are using `torch.load` with `weights_only=False` (the current default value), which uses the default pickle module implicitly. It is possible to construct malicious pickle data which will execute arbitrary code during unpickling (See https://github.com/pytorch/pytorch/blob/main/SECURITY.md#untrusted-models for more details). In a future release, the default value for `weights_only` will be flipped to `True`. This limits the functions that could be executed during unpickling. Arbitrary objects will no longer be allowed to be loaded via this mode unless they are explicitly allowlisted by the user via `torch.serialization.add_safe_globals`. We recommend you start setting `weights_only=True` for any use case where you don't have full control of the loaded file. Please open an issue on GitHub for any issues related to this experimental feature.\n",
      "  net = torch.load(os.path.join(\n"
     ]
    }
   ],
   "source": [
    "mc_nlpd_100 = obtain_nlpd_for_multi_run_mc(theta, x, '100')\n",
    "mc_kl_100 = obtain_kl_for_multi_run_mc(x, '100', mc_ref)"
   ]
  },
  {
   "cell_type": "code",
   "execution_count": 21,
   "metadata": {},
   "outputs": [],
   "source": [
    "np.save(os.path.join(result_dir, 'oup_mc_nlpd_100_four_param.npy'), mc_nlpd_100)\n",
    "np.save(os.path.join(result_dir, 'oup_mc_kl_100_four_param.npy'), mc_kl_100)\n",
    "mc_nlpd_100 = np.load(os.path.join(result_dir, 'oup_mc_nlpd_100_four_param.npy'))\n",
    "mc_kl_100 = np.load(os.path.join(result_dir, 'oup_mc_kl_100_four_param.npy'))"
   ]
  },
  {
   "cell_type": "code",
   "execution_count": 19,
   "metadata": {},
   "outputs": [
    {
     "name": "stdout",
     "output_type": "stream",
     "text": [
      "MC NLPD 100:  -1.21 ( 0.53 ) \n",
      "MC KL 100:  1.05 ( 0.14 )\n"
     ]
    }
   ],
   "source": [
    "print('MC NLPD 100: ', round(mc_nlpd_100.mean(), 2), '(', (round(mc_nlpd_100.std(), 2)),  ')', '\\n'\n",
    "      'MC KL 100: ', round(mc_kl_100.mean(), 2), '(', (round(mc_kl_100.std(), 2)),  ')')"
   ]
  },
  {
   "cell_type": "code",
   "execution_count": null,
   "metadata": {},
   "outputs": [],
   "source": [
    "# np.save(os.path.join(result_dir, 'oup_mlmc_kl_100_four_param.npy'), mlmc_kl)\n",
    "# np.save(os.path.join(result_dir, 'oup_tl_kl_100_four_param.npy'), tl_kl)\n",
    "# np.save(os.path.join(result_dir, 'oup_mlmc_nlpd_100_four_param.npy'), mlnc_nlpd)\n",
    "# np.save(os.path.join(result_dir, 'oup_tl_nlpd_100_four_param.npy'), tl_nlpd)"
   ]
  },
  {
   "cell_type": "code",
   "execution_count": 105,
   "metadata": {},
   "outputs": [],
   "source": [
    "nlpd_tl_100 = np.load(os.path.join(result_dir, 'oup_tl_nlpd_100_four_param.npy'))\n",
    "nlpd_mlmc_100 = np.load(os.path.join(result_dir, 'oup_mlmc_nlpd_100_four_param.npy'))"
   ]
  },
  {
   "cell_type": "code",
   "execution_count": 106,
   "metadata": {},
   "outputs": [],
   "source": [
    "kl_tl_100 = np.load(os.path.join(result_dir, 'oup_tl_kl_100_four_param.npy'))\n",
    "kl_mlmc_100 = np.load(os.path.join(result_dir, 'oup_mlmc_kl_100_four_param.npy'))"
   ]
  },
  {
   "cell_type": "code",
   "execution_count": 22,
   "metadata": {},
   "outputs": [
    {
     "name": "stdout",
     "output_type": "stream",
     "text": [
      "MLMC NLPD :  -0.18 ( 0.53 ) \n",
      "TL NLPD:  -0.89 ( 0.52 )\n"
     ]
    }
   ],
   "source": [
    "# NLPD \n",
    "print('MLMC NLPD : ', round(nlpd_mlmc_100.mean(), 2), '(', (round(mc_nlpd_100.std(), 2)),  ')', '\\n'\n",
    "      'TL NLPD: ', round( nlpd_tl_100.mean(axis = 0)[1], 2), '(', (round( nlpd_tl_100.std(axis = 0)[1], 2)),  ')')"
   ]
  },
  {
   "cell_type": "code",
   "execution_count": 23,
   "metadata": {},
   "outputs": [
    {
     "name": "stdout",
     "output_type": "stream",
     "text": [
      "MLMC KL :  0.98 ( 0.08 ) \n",
      "TL KL:  1.24 ( 0.4 )\n"
     ]
    }
   ],
   "source": [
    "# KL \n",
    "print('MLMC KL : ', round(kl_mlmc_100.mean(), 2), '(', (round(kl_mlmc_100.std(), 2)),  ')', '\\n'\n",
    "      'TL KL: ', round( kl_tl_100.mean(axis = 0)[1], 2), '(', (round( kl_tl_100.std(axis = 0)[1], 2)),  ')')"
   ]
  }
 ],
 "metadata": {
  "kernelspec": {
   "display_name": "sbi_env",
   "language": "python",
   "name": "python3"
  },
  "language_info": {
   "codemirror_mode": {
    "name": "ipython",
    "version": 3
   },
   "file_extension": ".py",
   "mimetype": "text/x-python",
   "name": "python",
   "nbconvert_exporter": "python",
   "pygments_lexer": "ipython3",
   "version": "3.9.21"
  }
 },
 "nbformat": 4,
 "nbformat_minor": 2
}
